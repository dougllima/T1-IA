{
 "cells": [
  {
   "cell_type": "code",
   "execution_count": 23,
   "metadata": {},
   "outputs": [
    {
     "name": "stdout",
     "output_type": "stream",
     "text": [
      "[['E', '0', '0', 'B', '0', '0', '1', '0', '1', '1'], ['B', '0', '0', '0', 'B', '1', '0', '1', '0', '1'], ['1', 'B', '0', 'B', '1', '1', '1', '1', '0', '1'], ['1', '0', 'B', '0', 'B', '1', '1', '1', '0', '1'], ['0', '1', '0', '1', '0', '0', '0', '1', '0', '1'], ['0', '1', '0', '1', '0', 'B', '0', '0', '0', '1'], ['0', '1', 'B', '1', '1', 'B', '0', '1', '1', '1'], ['0', '1', 'B', '0', '0', 'B', '0', 'B', '1', '1'], ['S', '0', '0', '1', '1', '1', '0', 'B', '1', '1'], ['1', '1', '1', '0', '0', '0', '0', '0', 'B', '1']]\n"
     ]
    }
   ],
   "source": [
    "def read_file():\n",
    "     with open('lab.txt') as text_file:\n",
    "        lines = [line.split() for line in text_file]\n",
    "        print(lines) \n",
    "read_file()"
   ]
  },
  {
   "cell_type": "code",
   "execution_count": 1,
   "metadata": {},
   "outputs": [],
   "source": [
    "def astar ():\n",
    "    pass\n"
   ]
  },
  {
   "cell_type": "code",
   "execution_count": 2,
   "metadata": {},
   "outputs": [],
   "source": [
    "def heuristic():\n",
    "    pass"
   ]
  },
  {
   "cell_type": "code",
   "execution_count": 3,
   "metadata": {},
   "outputs": [],
   "source": [
    "def crossover():\n",
    "    pass\n"
   ]
  },
  {
   "cell_type": "code",
   "execution_count": 4,
   "metadata": {},
   "outputs": [],
   "source": [
    "def mutation():\n",
    "    pass\n"
   ]
  },
  {
   "cell_type": "code",
   "execution_count": 6,
   "metadata": {},
   "outputs": [],
   "source": [
    "def cal_pop_fitness():\n",
    "    pass\n"
   ]
  },
  {
   "cell_type": "code",
   "execution_count": 8,
   "metadata": {},
   "outputs": [],
   "source": [
    "def select_mating_pool():\n",
    "    pass"
   ]
  },
  {
   "cell_type": "code",
   "execution_count": 33,
   "metadata": {},
   "outputs": [
    {
     "ename": "NameError",
     "evalue": "name 'self' is not defined",
     "output_type": "error",
     "traceback": [
      "\u001b[1;31m---------------------------------------------------------------------------\u001b[0m",
      "\u001b[1;31mNameError\u001b[0m                                 Traceback (most recent call last)",
      "\u001b[1;32m<ipython-input-33-297aa47f927f>\u001b[0m in \u001b[0;36m<module>\u001b[1;34m\u001b[0m\n\u001b[1;32m----> 1\u001b[1;33m \u001b[1;32mclass\u001b[0m \u001b[0magent\u001b[0m\u001b[1;33m(\u001b[0m\u001b[0mself\u001b[0m\u001b[1;33m)\u001b[0m\u001b[1;33m:\u001b[0m\u001b[1;33m\u001b[0m\u001b[1;33m\u001b[0m\u001b[0m\n\u001b[0m\u001b[0;32m      2\u001b[0m     \u001b[1;32mdef\u001b[0m \u001b[0m__init__\u001b[0m\u001b[1;33m(\u001b[0m\u001b[0mself\u001b[0m\u001b[1;33m)\u001b[0m\u001b[1;33m:\u001b[0m\u001b[1;33m\u001b[0m\u001b[1;33m\u001b[0m\u001b[0m\n\u001b[0;32m      3\u001b[0m         \u001b[0mself\u001b[0m\u001b[1;33m.\u001b[0m\u001b[0mcurrent_possition\u001b[0m  \u001b[1;33m=\u001b[0m \u001b[0mcurrent_possition\u001b[0m\u001b[1;33m\u001b[0m\u001b[1;33m\u001b[0m\u001b[0m\n\u001b[0;32m      4\u001b[0m         \u001b[0mself\u001b[0m\u001b[1;33m.\u001b[0m\u001b[0mis_alive\u001b[0m \u001b[1;33m=\u001b[0m \u001b[0mis_alive\u001b[0m\u001b[1;33m\u001b[0m\u001b[1;33m\u001b[0m\u001b[0m\n\u001b[0;32m      5\u001b[0m \u001b[1;33m\u001b[0m\u001b[0m\n",
      "\u001b[1;31mNameError\u001b[0m: name 'self' is not defined"
     ]
    }
   ],
   "source": [
    "class agent(self):\n",
    "    \n",
    "    def __init__(self):\n",
    "        self.current_position  = current_position\n",
    "        self.is_alive = is_alive\n",
    "        self.win =  win\n",
    "        \n",
    "        \n",
    "    def get_current_position():\n",
    "        #start on [0,0]\n",
    "        pass\n",
    "    \n",
    "        \n",
    "    def move(direction):\n",
    "        pass\n",
    "    \n",
    "    def is_alive():\n",
    "        #return true or false only \n",
    "        pass\n",
    "      "
   ]
  },
  {
   "cell_type": "code",
   "execution_count": null,
   "metadata": {},
   "outputs": [],
   "source": [
    "def "
   ]
  }
 ],
 "metadata": {
  "kernelspec": {
   "display_name": "Python 3",
   "language": "python",
   "name": "python3"
  },
  "language_info": {
   "codemirror_mode": {
    "name": "ipython",
    "version": 3
   },
   "file_extension": ".py",
   "mimetype": "text/x-python",
   "name": "python",
   "nbconvert_exporter": "python",
   "pygments_lexer": "ipython3",
   "version": "3.7.4"
  }
 },
 "nbformat": 4,
 "nbformat_minor": 4
}
