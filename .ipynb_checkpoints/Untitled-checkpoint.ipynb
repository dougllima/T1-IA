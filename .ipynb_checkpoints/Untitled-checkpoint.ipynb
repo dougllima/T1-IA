{
 "cells": [
  {
   "cell_type": "code",
   "execution_count": 23,
   "metadata": {},
   "outputs": [
    {
     "name": "stdout",
     "output_type": "stream",
     "text": [
      "[['E', '0', '0', 'B', '0', '0', '1', '0', '1', '1'], ['B', '0', '0', '0', 'B', '1', '0', '1', '0', '1'], ['1', 'B', '0', 'B', '1', '1', '1', '1', '0', '1'], ['1', '0', 'B', '0', 'B', '1', '1', '1', '0', '1'], ['0', '1', '0', '1', '0', '0', '0', '1', '0', '1'], ['0', '1', '0', '1', '0', 'B', '0', '0', '0', '1'], ['0', '1', 'B', '1', '1', 'B', '0', '1', '1', '1'], ['0', '1', 'B', '0', '0', 'B', '0', 'B', '1', '1'], ['S', '0', '0', '1', '1', '1', '0', 'B', '1', '1'], ['1', '1', '1', '0', '0', '0', '0', '0', 'B', '1']]\n"
     ]
    }
   ],
   "source": [
    "def read_file():\n",
    "     with open('lab.txt') as text_file:\n",
    "        lines = [line.split() for line in text_file]\n",
    "        print(lines) \n",
    "read_file()"
   ]
  },
  {
   "cell_type": "code",
   "execution_count": 1,
   "metadata": {},
   "outputs": [],
   "source": [
    "def astar ():\n",
    "    pass\n"
   ]
  },
  {
   "cell_type": "code",
   "execution_count": 2,
   "metadata": {},
   "outputs": [],
   "source": [
    "def heuristic():\n",
    "    pass"
   ]
  },
  {
   "cell_type": "code",
   "execution_count": 3,
   "metadata": {},
   "outputs": [],
   "source": [
    "def crossover():\n",
    "    pass\n"
   ]
  },
  {
   "cell_type": "code",
   "execution_count": 4,
   "metadata": {},
   "outputs": [],
   "source": [
    "def mutation():\n",
    "    pass\n"
   ]
  },
  {
   "cell_type": "code",
   "execution_count": 6,
   "metadata": {},
   "outputs": [],
   "source": [
    "def cal_pop_fitness():\n",
    "    pass\n"
   ]
  },
  {
   "cell_type": "code",
   "execution_count": 8,
   "metadata": {},
   "outputs": [],
   "source": [
    "def select_mating_pool():\n",
    "    pass"
   ]
  },
  {
   "cell_type": "code",
   "execution_count": null,
   "metadata": {},
   "outputs": [],
   "source": []
  }
 ],
 "metadata": {
  "kernelspec": {
   "display_name": "Python 3",
   "language": "python",
   "name": "python3"
  },
  "language_info": {
   "codemirror_mode": {
    "name": "ipython",
    "version": 3
   },
   "file_extension": ".py",
   "mimetype": "text/x-python",
   "name": "python",
   "nbconvert_exporter": "python",
   "pygments_lexer": "ipython3",
   "version": "3.7.4"
  }
 },
 "nbformat": 4,
 "nbformat_minor": 4
}
